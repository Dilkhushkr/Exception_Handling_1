{
 "cells": [
  {
   "cell_type": "code",
   "execution_count": 2,
   "id": "acbe0d5f-e9f0-4daf-9caf-c3a093f502dc",
   "metadata": {},
   "outputs": [],
   "source": [
    "# Q.1 Explain why we have to use the Exception class while creating a Custom Exception"
   ]
  },
  {
   "cell_type": "code",
   "execution_count": 3,
   "id": "485a0e46-7bc7-449e-b7b3-771b5ebe13bc",
   "metadata": {},
   "outputs": [],
   "source": [
    "#Ans : - Exception class in the super class in of all the exception class but we create coustem class the we inherit coustem class "
   ]
  },
  {
   "cell_type": "code",
   "execution_count": 4,
   "id": "384263f7-f82b-4e54-a4ce-f44b6023791a",
   "metadata": {},
   "outputs": [],
   "source": [
    "# Q. Write a python  program to print python Exception hierachy."
   ]
  },
  {
   "cell_type": "code",
   "execution_count": 5,
   "id": "1df80927-99ba-4601-94b7-96c38f00eff3",
   "metadata": {},
   "outputs": [],
   "source": [
    "# Q. what errors are defined in the arithemticError class? explain any two with an example "
   ]
  },
  {
   "cell_type": "code",
   "execution_count": 6,
   "id": "5b565831-7c61-48a1-91b6-b0bd0f36b402",
   "metadata": {},
   "outputs": [
    {
     "name": "stdout",
     "output_type": "stream",
     "text": [
      "Error : division by zero\n"
     ]
    }
   ],
   "source": [
    "a = 10\n",
    "b = 0\n",
    "try:\n",
    "    a/b\n",
    "except ZeroDivisionError as e:\n",
    "    print(\"Error :\",e)"
   ]
  },
  {
   "cell_type": "code",
   "execution_count": 13,
   "id": "6fda4072-4276-44b5-83a5-f4744932c3d9",
   "metadata": {},
   "outputs": [],
   "source": [
    "max_int = 2**31-1\n",
    "try:\n",
    "    overflow = max_int*2\n",
    "except OverflowError as e:\n",
    "    print(\"Error :\",e)"
   ]
  },
  {
   "cell_type": "code",
   "execution_count": 12,
   "id": "3368593e-c558-4d6c-b3cd-0a14986adb65",
   "metadata": {},
   "outputs": [],
   "source": [
    "# Q. why LoopUpError class in used Exaplin with an example Keyerror and Index Error"
   ]
  },
  {
   "cell_type": "code",
   "execution_count": 14,
   "id": "882caf72-0709-4e0e-b05b-778d44c733a0",
   "metadata": {},
   "outputs": [
    {
     "name": "stdout",
     "output_type": "stream",
     "text": [
      "key is not here : 'grapes'\n"
     ]
    }
   ],
   "source": [
    "my_dict = {\"apple\":3,\"banana\":5,\"orange\":2}\n",
    "try:\n",
    "    is_here = my_dict[\"grapes\"]\n",
    "except KeyError as e:\n",
    "    print(\"key is not here :\",e)"
   ]
  },
  {
   "cell_type": "code",
   "execution_count": 15,
   "id": "1b519d78-7377-4dd3-b088-582170a68353",
   "metadata": {},
   "outputs": [
    {
     "name": "stdout",
     "output_type": "stream",
     "text": [
      "Error : list index out of range\n"
     ]
    }
   ],
   "source": [
    "l = [1,2,3,4,5]\n",
    "try:\n",
    "    res = l[10]\n",
    "except IndexError as e:\n",
    "    print(\"Error :\",e)"
   ]
  },
  {
   "cell_type": "code",
   "execution_count": 16,
   "id": "480cefb7-e579-4d79-b794-0811269ee72a",
   "metadata": {},
   "outputs": [],
   "source": [
    "# Q. Explain importError . what is ModuleNotFoundError"
   ]
  },
  {
   "cell_type": "code",
   "execution_count": 17,
   "id": "7d6ed7d8-7dc9-4ccc-a690-43520031f9a0",
   "metadata": {},
   "outputs": [
    {
     "name": "stdout",
     "output_type": "stream",
     "text": [
      "Import Error : No module named 'my_modul'\n"
     ]
    }
   ],
   "source": [
    "try :\n",
    "    import my_modul\n",
    "except ImportError as e:\n",
    "    print(\"Import Error :\",e)"
   ]
  },
  {
   "cell_type": "code",
   "execution_count": 18,
   "id": "48160d24-fc3e-47bd-a34b-be20283ce038",
   "metadata": {},
   "outputs": [
    {
     "name": "stdout",
     "output_type": "stream",
     "text": [
      "Module not found error : No module named 'non_existent_module'\n"
     ]
    }
   ],
   "source": [
    "try :\n",
    "    import non_existent_module\n",
    "except ModuleNotFoundError as e:\n",
    "    print(\"Module not found error :\",e)"
   ]
  },
  {
   "cell_type": "code",
   "execution_count": null,
   "id": "5f329f68-31a4-4454-977c-f9473ed15876",
   "metadata": {},
   "outputs": [],
   "source": [
    "#  Q. List down some best practices for ecxeption handling in python\n",
    "#  i.use all ways specific exception\n",
    "#  ii.print always proper massage\n",
    "# iii. all ways try to use logging\n",
    "# iv.always avoid to write a multiple exception handling\n",
    "# v.Documnet all the error\n",
    "#  vi clean all the resources"
   ]
  }
 ],
 "metadata": {
  "kernelspec": {
   "display_name": "Python 3 (ipykernel)",
   "language": "python",
   "name": "python3"
  },
  "language_info": {
   "codemirror_mode": {
    "name": "ipython",
    "version": 3
   },
   "file_extension": ".py",
   "mimetype": "text/x-python",
   "name": "python",
   "nbconvert_exporter": "python",
   "pygments_lexer": "ipython3",
   "version": "3.10.8"
  }
 },
 "nbformat": 4,
 "nbformat_minor": 5
}
