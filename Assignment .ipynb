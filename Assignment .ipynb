{
 "cells": [
  {
   "cell_type": "code",
   "execution_count": 1,
   "id": "9cae0ded-cee8-40a8-a717-cb85bb120cef",
   "metadata": {},
   "outputs": [],
   "source": [
    "# Q. what is an Exception in python ? Write the difference between Exception and syntax error"
   ]
  },
  {
   "cell_type": "code",
   "execution_count": 2,
   "id": "6a00d89b-2dce-437f-ae83-efdb29f40638",
   "metadata": {},
   "outputs": [],
   "source": [
    "# ans :- Exception is the event which occure during the program it stop the flow of programming \n",
    "#        Exception happens logic and system error it occure on run time \n",
    "#        but syntax error happens when programars do falut while wrting the program"
   ]
  },
  {
   "cell_type": "code",
   "execution_count": 3,
   "id": "dbb5af8f-6590-4a23-b006-227222c5485b",
   "metadata": {},
   "outputs": [],
   "source": [
    "#Q.what happens when an exception  is not handled? Expalin with example ?"
   ]
  },
  {
   "cell_type": "code",
   "execution_count": 5,
   "id": "baad7ff1-ef0e-4a80-b091-a81d14424255",
   "metadata": {},
   "outputs": [
    {
     "name": "stdout",
     "output_type": "stream",
     "text": [
      "i am tring to handle zero division error : division by zero\n"
     ]
    },
    {
     "data": {
      "text/plain": [
       "7"
      ]
     },
     "execution_count": 5,
     "metadata": {},
     "output_type": "execute_result"
    }
   ],
   "source": [
    "#Ans : - if we will not exception handle the program execution will not be work \n",
    "try:\n",
    "    10/0\n",
    "except ZeroDivisionError as e:\n",
    "    print(\"i am tring to handle zero division error :\",e)\n",
    "4+3"
   ]
  },
  {
   "cell_type": "code",
   "execution_count": 6,
   "id": "f1ae1d27-47ac-49e9-afa2-c869a9709a88",
   "metadata": {},
   "outputs": [
    {
     "ename": "ZeroDivisionError",
     "evalue": "division by zero",
     "output_type": "error",
     "traceback": [
      "\u001b[0;31m---------------------------------------------------------------------------\u001b[0m",
      "\u001b[0;31mZeroDivisionError\u001b[0m                         Traceback (most recent call last)",
      "Cell \u001b[0;32mIn[6], line 1\u001b[0m\n\u001b[0;32m----> 1\u001b[0m \u001b[38;5;241;43m10\u001b[39;49m\u001b[38;5;241;43m/\u001b[39;49m\u001b[38;5;241;43m0\u001b[39;49m\n\u001b[1;32m      2\u001b[0m \u001b[38;5;28mprint\u001b[39m(\u001b[38;5;124m\"\u001b[39m\u001b[38;5;124mthis code will not work becuse we have to handle exception \u001b[39m\u001b[38;5;124m\"\u001b[39m)\n",
      "\u001b[0;31mZeroDivisionError\u001b[0m: division by zero"
     ]
    }
   ],
   "source": [
    "10/0\n",
    "print(\"this code will not work becuse we have to handle exception \")"
   ]
  },
  {
   "cell_type": "code",
   "execution_count": 7,
   "id": "3c7bcf6e-2d42-42ac-a60d-ecc9d7818d7c",
   "metadata": {},
   "outputs": [],
   "source": [
    "# Q. which pyhton statements are used to catch and handle exception ? explain with an example.\n",
    "#Ans:- if we have to handle exception in pythone so we can use try and except these key word is also helpful for using this "
   ]
  },
  {
   "cell_type": "code",
   "execution_count": 10,
   "id": "4294a2f0-518f-4a3f-90d7-3070c4138e1c",
   "metadata": {},
   "outputs": [
    {
     "name": "stdin",
     "output_type": "stream",
     "text": [
      "Enter the number : 1000\n"
     ]
    },
    {
     "name": "stdout",
     "output_type": "stream",
     "text": [
      "Result : 0.01\n"
     ]
    }
   ],
   "source": [
    "try:\n",
    "    num = int(input(\"Enter the number :\"))\n",
    "    result = 10/num\n",
    "    print(\"Result :\",result)\n",
    "except ZeroDivisionError as e:\n",
    "    print(\"this number can not divide by zero :\",e)\n",
    "except ValueError as e:\n",
    "    print(\"plz give write value :\",e)"
   ]
  },
  {
   "cell_type": "code",
   "execution_count": 11,
   "id": "68c7c71b-2e8d-4c86-9055-a0f4abb317ce",
   "metadata": {},
   "outputs": [],
   "source": [
    "# Q. Exaplin with   an example ?\n",
    "    # a.try and else\n",
    "    # b. finally\n",
    "    # c.raise"
   ]
  },
  {
   "cell_type": "code",
   "execution_count": 15,
   "id": "f9fa006d-f1e3-4cd6-9f35-80700b78a57e",
   "metadata": {},
   "outputs": [
    {
     "name": "stdout",
     "output_type": "stream",
     "text": [
      "this block will execute when try will not throw exception\n"
     ]
    }
   ],
   "source": [
    "# try :- in the try block it checks exception occure\n",
    "# else : if try throw exception then else will not work othewise it will execute\n",
    "try:\n",
    "    10/5\n",
    "\n",
    "except ZeroDivisionError as e:\n",
    "    print(e)\n",
    "else:\n",
    "    print(\"this block will execute when try will not throw exception\")"
   ]
  },
  {
   "cell_type": "code",
   "execution_count": 2,
   "id": "82ec0e6d-a5bc-430f-8bdd-5585664b911e",
   "metadata": {},
   "outputs": [
    {
     "name": "stdout",
     "output_type": "stream",
     "text": [
      "file is not here  [Errno 2] No such file or directory: 'example.txt'\n"
     ]
    },
    {
     "ename": "NameError",
     "evalue": "name 'file' is not defined",
     "output_type": "error",
     "traceback": [
      "\u001b[0;31m---------------------------------------------------------------------------\u001b[0m",
      "\u001b[0;31mNameError\u001b[0m                                 Traceback (most recent call last)",
      "Cell \u001b[0;32mIn[2], line 9\u001b[0m\n\u001b[1;32m      7\u001b[0m     \u001b[38;5;28mprint\u001b[39m(\u001b[38;5;124m\"\u001b[39m\u001b[38;5;124mfile is not here \u001b[39m\u001b[38;5;124m\"\u001b[39m,e)\n\u001b[1;32m      8\u001b[0m \u001b[38;5;28;01mfinally\u001b[39;00m:\n\u001b[0;32m----> 9\u001b[0m     \u001b[38;5;28;01mif\u001b[39;00m \u001b[43mfile\u001b[49m:\n\u001b[1;32m     10\u001b[0m         file\u001b[38;5;241m.\u001b[39mclose()\n",
      "\u001b[0;31mNameError\u001b[0m: name 'file' is not defined"
     ]
    }
   ],
   "source": [
    "# fianlly key word if try thorws exception or not but finally block will be execute\n",
    "try :\n",
    "    file = open(\"example.txt\",\"r\")\n",
    "    res =  file.read()\n",
    "    print(res)\n",
    "except FileNotFoundError as e:\n",
    "    print(\"file is not here \",e)\n",
    "finally:\n",
    "    if file:\n",
    "        file.close()\n",
    "    "
   ]
  },
  {
   "cell_type": "code",
   "execution_count": 3,
   "id": "852fd42d-306e-4499-8baf-0901cf18f246",
   "metadata": {},
   "outputs": [
    {
     "name": "stdout",
     "output_type": "stream",
     "text": [
      "An error occurred : can not divide by zero\n"
     ]
    }
   ],
   "source": [
    "# when you want to create your own exception then you can use raise\n",
    "class CustomError(Exception):\n",
    "    pass\n",
    "def divide(a,b):\n",
    "    if b==0:\n",
    "        raise CustomError(\"can not divide by zero\")\n",
    "    return a/b\n",
    "try:\n",
    "    reslut = divide(10,0)\n",
    "except CustomError as e:\n",
    "    print(\"An error occurred :\",str(e))"
   ]
  },
  {
   "cell_type": "code",
   "execution_count": 4,
   "id": "19a7613d-673d-4e62-96c5-ed13bfe502d9",
   "metadata": {},
   "outputs": [],
   "source": [
    "# What are the coustem Exception in python ? why do you need this ? expalin with an example"
   ]
  },
  {
   "cell_type": "code",
   "execution_count": 5,
   "id": "58bbae2c-d52b-451d-9ef3-eabd0c28e20f",
   "metadata": {},
   "outputs": [
    {
     "name": "stdout",
     "output_type": "stream",
     "text": [
      "Error  Insufficient balance to withdraw\n"
     ]
    }
   ],
   "source": [
    "# coustem exception is means we create own exception as per need\n",
    "class NotEnoughBalanceError(Exception):\n",
    "    pass\n",
    "def withdraw_balance(balance,amount):\n",
    "    if amount > balance:\n",
    "        raise NotEnoughBalanceError(\"Insufficient balance to withdraw\")\n",
    "    balance -= amount\n",
    "    return balance\n",
    "try:\n",
    "    account_balance = 100\n",
    "    withdrawal_amount = 150\n",
    "    account_balance = withdraw_balance(account_balance, withdrawal_amount)\n",
    "    print(\"Remaining balance:\", account_balance)\n",
    "except NotEnoughBalanceError as e:\n",
    "    print(\"Error \",str(e))"
   ]
  },
  {
   "cell_type": "code",
   "execution_count": null,
   "id": "69cc89e1-f4c0-4b68-b8c0-a52dc257f69a",
   "metadata": {},
   "outputs": [],
   "source": []
  }
 ],
 "metadata": {
  "kernelspec": {
   "display_name": "Python 3 (ipykernel)",
   "language": "python",
   "name": "python3"
  },
  "language_info": {
   "codemirror_mode": {
    "name": "ipython",
    "version": 3
   },
   "file_extension": ".py",
   "mimetype": "text/x-python",
   "name": "python",
   "nbconvert_exporter": "python",
   "pygments_lexer": "ipython3",
   "version": "3.10.8"
  }
 },
 "nbformat": 4,
 "nbformat_minor": 5
}
